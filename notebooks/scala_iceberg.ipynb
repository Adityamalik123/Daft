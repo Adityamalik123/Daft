{
 "cells": [
  {
   "cell_type": "code",
   "execution_count": 1,
   "id": "272fdcba-82df-4ebc-a852-1fe1999d043d",
   "metadata": {},
   "outputs": [],
   "source": [
    "%%init_spark\n",
    "launcher.jars = [\"file:///home/sammy/iceberg-spark-runtime-3.2_2.12-0.13.2.jar\"]\n",
    "launcher.master = \"local[4]\"\n",
    "launcher.conf.spark.executor.cores = 8\n"
   ]
  },
  {
   "cell_type": "code",
   "execution_count": 14,
   "id": "b833881d-732c-4f86-9736-7734ee6be986",
   "metadata": {},
   "outputs": [
    {
     "data": {
      "text/plain": [
       "import scala.collection.JavaConverters._\n"
      ]
     },
     "execution_count": 14,
     "metadata": {},
     "output_type": "execute_result"
    }
   ],
   "source": [
    "import scala.collection.JavaConverters._\n"
   ]
  },
  {
   "cell_type": "code",
   "execution_count": 2,
   "id": "d62d08b9-5bf6-48f5-92dc-82ad20d0f41d",
   "metadata": {},
   "outputs": [
    {
     "data": {
      "text/plain": [
       "Intitializing Scala interpreter ..."
      ]
     },
     "metadata": {},
     "output_type": "display_data"
    },
    {
     "data": {
      "text/plain": [
       "Spark Web UI available at http://lambo.localdomain:4040\n",
       "SparkContext available as 'sc' (version = 3.3.0, master = local[4], app id = local-1655502643152)\n",
       "SparkSession available as 'spark'\n"
      ]
     },
     "metadata": {},
     "output_type": "display_data"
    },
    {
     "data": {
      "text/plain": [
       "import org.apache.hadoop.conf.Configuration\n",
       "import org.apache.iceberg.hadoop.HadoopCatalog\n",
       "conf: org.apache.hadoop.conf.Configuration = Configuration: core-default.xml, core-site.xml, mapred-default.xml, mapred-site.xml, yarn-default.xml, yarn-site.xml, hdfs-default.xml, hdfs-rbf-default.xml, hdfs-site.xml, hdfs-rbf-site.xml\n",
       "warehousePath: String = file:///tmp/hdfs/test5\n",
       "catalog: org.apache.iceberg.hadoop.HadoopCatalog = HadoopCatalog{name=hadoop, location=file:///tmp/hdfs/test5}\n"
      ]
     },
     "execution_count": 2,
     "metadata": {},
     "output_type": "execute_result"
    }
   ],
   "source": [
    "import org.apache.hadoop.conf.Configuration;\n",
    "import org.apache.iceberg.hadoop.HadoopCatalog;\n",
    "\n",
    "val conf = new Configuration();\n",
    "val warehousePath = \"file:///tmp/hdfs/test5\";\n",
    "val catalog = new HadoopCatalog(conf, warehousePath);\n"
   ]
  },
  {
   "cell_type": "code",
   "execution_count": null,
   "id": "73bd81a3-1a79-4653-b7f8-aabd04f83ed3",
   "metadata": {},
   "outputs": [],
   "source": []
  },
  {
   "cell_type": "code",
   "execution_count": 6,
   "id": "45b2135e-5606-4688-9d03-6f844dd2a1dd",
   "metadata": {},
   "outputs": [
    {
     "data": {
      "text/plain": [
       "import org.apache.iceberg.Schema\n",
       "import org.apache.iceberg.types.Types\n",
       "schema: org.apache.iceberg.Schema =\n",
       "table {\n",
       "  1: id: required long\n",
       "  2: event_time: required timestamptz\n",
       "}\n"
      ]
     },
     "execution_count": 6,
     "metadata": {},
     "output_type": "execute_result"
    }
   ],
   "source": [
    "import org.apache.iceberg.Schema;\n",
    "import org.apache.iceberg.types.Types;\n",
    "\n",
    "val schema = new Schema(\n",
    "      Types.NestedField.required(1, \"id\", Types.LongType.get()),\n",
    "      Types.NestedField.required(2, \"event_time\", Types.TimestampType.withZone()),\n",
    "    );"
   ]
  },
  {
   "cell_type": "code",
   "execution_count": 26,
   "id": "5e537c84-a92b-4be9-a703-7225172b9867",
   "metadata": {},
   "outputs": [
    {
     "data": {
      "text/plain": [
       "import org.apache.iceberg.catalog.TableIdentifier\n",
       "import org.apache.iceberg.PartitionSpec\n",
       "partSpecBuilder: org.apache.iceberg.PartitionSpec.Builder = org.apache.iceberg.PartitionSpec$Builder@41cd7733\n",
       "partSpec: org.apache.iceberg.PartitionSpec =\n",
       "[\n",
       "  1000: event_time_hour: hour(2)\n",
       "]\n",
       "table: org.apache.iceberg.catalog.Catalog.TableBuilder = org.apache.iceberg.hadoop.HadoopCatalog$HadoopCatalogTableBuilder@70731531\n"
      ]
     },
     "execution_count": 26,
     "metadata": {},
     "output_type": "execute_result"
    }
   ],
   "source": [
    "import org.apache.iceberg.catalog.TableIdentifier\n",
    "\n",
    "import org.apache.iceberg.PartitionSpec\n",
    "\n",
    "val partSpecBuilder = PartitionSpec.builderFor(schema).hour(\"event_time\")\n",
    "\n",
    "val partSpec = partSpecBuilder.build()\n",
    "\n",
    "\n",
    "val table = catalog.buildTable(TableIdentifier.of(\"hi8\"), schema).withPartitionSpec(partSpec)"
   ]
  },
  {
   "cell_type": "code",
   "execution_count": 27,
   "id": "ea4025cc-061e-4252-8cc1-dd315e67b0db",
   "metadata": {},
   "outputs": [
    {
     "data": {
      "text/plain": [
       "created_table: org.apache.iceberg.Table = hadoop.hi8\n"
      ]
     },
     "execution_count": 27,
     "metadata": {},
     "output_type": "execute_result"
    }
   ],
   "source": [
    "val created_table = table.create()"
   ]
  },
  {
   "cell_type": "code",
   "execution_count": 12,
   "id": "fdc24c7a-5b2f-4eed-8852-f946c43f5083",
   "metadata": {},
   "outputs": [
    {
     "data": {
      "text/plain": [
       "import org.apache.iceberg.PartitionSpec\n",
       "partSpecBuilder: org.apache.iceberg.PartitionSpec.Builder = org.apache.iceberg.PartitionSpec$Builder@7231ade0\n",
       "partSpec: org.apache.iceberg.PartitionSpec =\n",
       "[\n",
       "  1000: event_time_hour: hour(2)\n",
       "]\n"
      ]
     },
     "execution_count": 12,
     "metadata": {},
     "output_type": "execute_result"
    }
   ],
   "source": []
  },
  {
   "cell_type": "code",
   "execution_count": 28,
   "id": "57595b3f-ede5-4637-9d59-1f33b7b531bc",
   "metadata": {},
   "outputs": [
    {
     "data": {
      "text/plain": [
       "import org.apache.iceberg.Metrics\n",
       "import org.apache.iceberg.types.Conversions\n",
       "import org.apache.iceberg.DataFiles\n"
      ]
     },
     "execution_count": 28,
     "metadata": {},
     "output_type": "execute_result"
    }
   ],
   "source": [
    "import org.apache.iceberg.Metrics\n",
    "import org.apache.iceberg.types.Conversions\n",
    "import org.apache.iceberg.DataFiles\n",
    "\n",
    "\n",
    "for (i <- 0 to 4) {\n",
    "    val columnSizes = Map[Int, Long](1 -> 100*8, 2 -> 100*8).asJava.asInstanceOf[java.util.Map[java.lang.Integer, java.lang.Long]]\n",
    "    val valueCounts = Map[Int, Long](1 -> 100, 2 -> 100).asJava.asInstanceOf[java.util.Map[java.lang.Integer, java.lang.Long]]\n",
    "    val nullValueCounts = Map[Int, Long](1 -> 0, 2 -> 0).asJava.asInstanceOf[java.util.Map[java.lang.Integer, java.lang.Long]]\n",
    "    val nanValueCounts = Map[Int, Long](1 -> 0, 2 -> 0).asJava.asInstanceOf[java.util.Map[java.lang.Integer, java.lang.Long]]\n",
    "\n",
    "    val lower_bound = Map[java.lang.Integer, java.nio.ByteBuffer](Int.box(1) -> Conversions.toByteBuffer(Types.LongType.get(), i * 50L)).asJava\n",
    "    val upper_bound = Map[java.lang.Integer, java.nio.ByteBuffer](Int.box(1) -> Conversions.toByteBuffer(Types.LongType.get(), (i + 1) * 50L)).asJava\n",
    "\n",
    "    val metrics = new Metrics(\n",
    "        50,\n",
    "        columnSizes,\n",
    "        valueCounts,\n",
    "        nullValueCounts,\n",
    "        nanValueCounts,\n",
    "        lower_bound,\n",
    "        upper_bound\n",
    "    )\n",
    "    val dataFileBuilder = DataFiles.builder(created_table.spec())\n",
    "    .withPath(\"file:///tmp/test\" + i)\n",
    "    .withFormat(\"parquet\")\n",
    "    .withFileSizeInBytes(1000000)\n",
    "    .withRecordCount(50)\n",
    "    .withMetrics(metrics)\n",
    "\n",
    "\n",
    "\n",
    "    val dataFile = dataFileBuilder.build()\n",
    "    created_table.newAppend().appendFile(dataFile).commit()\n",
    "    \n",
    "}"
   ]
  },
  {
   "cell_type": "code",
   "execution_count": null,
   "id": "104ef277-0948-4fc5-a313-54a10bc3eb3b",
   "metadata": {},
   "outputs": [],
   "source": [
    "\n"
   ]
  },
  {
   "cell_type": "code",
   "execution_count": null,
   "id": "1c64c0e0-84a7-41ef-a0a3-769e8278dfa5",
   "metadata": {},
   "outputs": [],
   "source": []
  },
  {
   "cell_type": "code",
   "execution_count": 29,
   "id": "60cee9b5-8170-4397-8a77-de6fefc6dd0e",
   "metadata": {},
   "outputs": [
    {
     "name": "stdout",
     "output_type": "stream",
     "text": [
      "BaseCombinedScanTask{tasks=org.apache.iceberg.BaseFileScanTask$SplitScanTask@2c9d49b7, org.apache.iceberg.BaseFileScanTask$SplitScanTask@21c3a8a3}\n"
     ]
    },
    {
     "data": {
      "text/plain": [
       "import org.apache.iceberg.expressions.Expressions\n",
       "scan: org.apache.iceberg.TableScan = DataTableScan{table=hadoop.hi8, projection=struct<1: id: required long, 2: event_time: required timestamptz>, filter=ref(name=\"id\") < 100, ignoreResiduals=false, caseSensitive=true}\n"
      ]
     },
     "execution_count": 29,
     "metadata": {},
     "output_type": "execute_result"
    }
   ],
   "source": [
    "import org.apache.iceberg.expressions.Expressions\n",
    "val scan = created_table.newScan().filter(Expressions.lessThan(\"id\", 100)).asOfTime(1655528018000L)\n",
    "\n",
    "for (file <- scan.planTasks().asScala) {\n",
    "  println(file)\n",
    "}"
   ]
  },
  {
   "cell_type": "code",
   "execution_count": 30,
   "id": "936288e8-da49-4181-8c60-a59564c8be10",
   "metadata": {},
   "outputs": [
    {
     "name": "stdout",
     "output_type": "stream",
     "text": [
      "BaseFileScanTask{file=file:///tmp/test1, partition_data=PartitionData{event_time_hour=null}, residual=ref(name=\"id\") < 100}\n",
      "BaseFileScanTask{file=file:///tmp/test0, partition_data=PartitionData{event_time_hour=null}, residual=ref(name=\"id\") < 100}\n"
     ]
    }
   ],
   "source": [
    "\n",
    "for (file <- scan.planFiles().asScala) {\n",
    "  println(file)\n",
    "}"
   ]
  },
  {
   "cell_type": "code",
   "execution_count": null,
   "id": "837d9f0a-07f1-4e6f-afaa-383a6e8c96db",
   "metadata": {},
   "outputs": [],
   "source": []
  },
  {
   "cell_type": "code",
   "execution_count": null,
   "id": "b1567b1f-9eb7-44bb-9e7a-764b5cc4d15f",
   "metadata": {},
   "outputs": [],
   "source": []
  }
 ],
 "metadata": {
  "kernelspec": {
   "display_name": "spylon-kernel",
   "language": "scala",
   "name": "spylon-kernel"
  },
  "language_info": {
   "codemirror_mode": "text/x-scala",
   "file_extension": ".scala",
   "help_links": [
    {
     "text": "MetaKernel Magics",
     "url": "https://metakernel.readthedocs.io/en/latest/source/README.html"
    }
   ],
   "mimetype": "text/x-scala",
   "name": "scala",
   "pygments_lexer": "scala",
   "version": "0.4.1"
  }
 },
 "nbformat": 4,
 "nbformat_minor": 5
}
